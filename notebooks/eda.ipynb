{
 "cells": [
  {
   "cell_type": "code",
   "execution_count": 10,
   "metadata": {},
   "outputs": [
    {
     "name": "stdout",
     "output_type": "stream",
     "text": [
      "Num GPUs Available:  2\n"
     ]
    }
   ],
   "source": [
    "import numpy as np\n",
    "import tensorflow as tf\n",
    "# import matplotlib.pyplot as plt\n",
    "\n",
    "from PIL import Image\n",
    "\n",
    "# ImageDataGenerator\n",
    "from keras.preprocessing.image import ImageDataGenerator\n",
    "\n",
    "from keras.models import Sequential\n",
    "from keras.models import Model\n",
    "\n",
    "from keras.layers import Dropout, Flatten, Dense, Conv2D, Input\n",
    "from keras.layers import GlobalAveragePooling2D, MaxPooling2D, GlobalMaxPooling2D\n",
    "\n",
    "# from sklearn.metrics import confusion_matrix"
   ]
  },
  {
   "cell_type": "code",
   "execution_count": 11,
   "metadata": {},
   "outputs": [
    {
     "name": "stdout",
     "output_type": "stream",
     "text": [
      "GPU 0: PhysicalDevice(name='/physical_device:GPU:0', device_type='GPU')\n",
      "GPU 1: PhysicalDevice(name='/physical_device:GPU:1', device_type='GPU')\n"
     ]
    }
   ],
   "source": [
    "physical_devices = tf.config.list_physical_devices('GPU')\n",
    "for i, device in enumerate(physical_devices):\n",
    "    print(f\"GPU {i}: {device}\")\n"
   ]
  },
  {
   "cell_type": "code",
   "execution_count": 12,
   "metadata": {},
   "outputs": [],
   "source": [
    "path = 'car_make_images/'\n",
    "training_path = path + 'train'\n",
    "testing_path = path + 'test'\n",
    "validation_path = path + 'val'"
   ]
  },
  {
   "cell_type": "code",
   "execution_count": 16,
   "metadata": {},
   "outputs": [],
   "source": [
    "# Inicializamos los ImageDataGenerator\n",
    "\n",
    "training_data_generator = ImageDataGenerator(rescale = 1./255,\n",
    "                              rotation_range = 359,\n",
    "                              shear_range = 0.2,\n",
    "                              width_shift_range = 0.2,\n",
    "                              height_shift_range = 0.2,\n",
    "                              zoom_range = 0.2,\n",
    "                              horizontal_flip = True,\n",
    "                              vertical_flip = True,\n",
    "                              preprocessing_function = None)\n",
    "\n",
    "validation_data_generator = ImageDataGenerator(rescale = 1./255)  # Removed augmentation\n",
    "test_data_generator = ImageDataGenerator(rescale = 1./255)  # Removed augmentation"
   ]
  },
  {
   "cell_type": "code",
   "execution_count": 17,
   "metadata": {},
   "outputs": [
    {
     "name": "stdout",
     "output_type": "stream",
     "text": [
      "Found 11573 images belonging to 39 classes.\n",
      "Found 2813 images belonging to 39 classes.\n",
      "Found 2871 images belonging to 39 classes.\n"
     ]
    }
   ],
   "source": [
    "# Entrenamos los ImageDataGenerator\n",
    "\n",
    "# Para poder usar .flow_from_directory(), necesitamos tener las carpetas ordenadas, es decir:\n",
    "\n",
    "# una carpeta de train con una carpeta de imagenes para cada clase\n",
    "# una carpeta de validation con una carpeta de imagenes para cada clase\n",
    "# y una carpeta de test con una carpeta de imagenes para cada clase\n",
    "\n",
    "size = 200\n",
    "batch_size = 30  # For example\n",
    "num_classes = 39  # Change to the number of classes you actually have\n",
    "\n",
    "training_generator = training_data_generator.flow_from_directory(training_path,\n",
    "                                                                 target_size = (size, size),\n",
    "                                                                 batch_size = 30,\n",
    "                                                                 class_mode = \"categorical\")\n",
    "\n",
    "validation_generator = validation_data_generator.flow_from_directory(validation_path,\n",
    "                                                                     target_size = (size, size),\n",
    "                                                                     batch_size = 1,\n",
    "                                                                     class_mode = \"categorical\")\n",
    "\n",
    "test_generator = test_data_generator.flow_from_directory(testing_path,\n",
    "                                                         target_size = (size, size),\n",
    "                                                         batch_size = 1,\n",
    "                                                         class_mode = \"categorical\")\n",
    "\n",
    "# En caso de que la clasificación sea multi-clase, el cambiamos el parámetro class_mode = \"categorical\""
   ]
  },
  {
   "cell_type": "code",
   "execution_count": 26,
   "metadata": {},
   "outputs": [
    {
     "name": "stdout",
     "output_type": "stream",
     "text": [
      "386/386 [==============================] - 134s 345ms/step - loss: 3.6435 - accuracy: 0.0397 - val_loss: 3.6140 - val_accuracy: 0.0462\n"
     ]
    }
   ],
   "source": [
    "with tf.device('/GPU:0'):\n",
    "\n",
    "    model = Sequential()\n",
    "\n",
    "    model.add(Input(shape = (size, size, 3)))\n",
    "\n",
    "    model.add(Conv2D(filters = 16, kernel_size = 9, padding = \"same\", activation = \"relu\"))\n",
    "    model.add(MaxPooling2D(pool_size = 2))\n",
    "\n",
    "    model.add(Conv2D(filters = 16, kernel_size = 9, padding = \"same\", activation = \"relu\"))\n",
    "    model.add(MaxPooling2D(pool_size = 2))\n",
    "\n",
    "    model.add(Flatten())\n",
    "\n",
    "    model.add(Dense(units = 120, activation = \"relu\"))\n",
    "    model.add(Dense(units = 120, activation = \"relu\"))\n",
    "    model.add(Dense(units = 120, activation = \"relu\"))\n",
    "    model.add(Dropout(0.15))\n",
    "    model.add(Dense(units = num_classes, activation = \"softmax\"))  # Changed to 'softmax'\n",
    "    \n",
    "    # Model Compilation\n",
    "    model.compile(loss = \"categorical_crossentropy\", optimizer = \"adam\", metrics = [\"accuracy\"])\n",
    "\n",
    "    # Model Training\n",
    "    history = model.fit(training_generator, epochs = 150, validation_data = validation_generator)"
   ]
  }
 ],
 "metadata": {
  "kernelspec": {
   "display_name": ".env",
   "language": "python",
   "name": "python3"
  },
  "language_info": {
   "codemirror_mode": {
    "name": "ipython",
    "version": 3
   },
   "file_extension": ".py",
   "mimetype": "text/x-python",
   "name": "python",
   "nbconvert_exporter": "python",
   "pygments_lexer": "ipython3",
   "version": "3.10.11"
  },
  "orig_nbformat": 4
 },
 "nbformat": 4,
 "nbformat_minor": 2
}
