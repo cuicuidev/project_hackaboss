{
 "cells": [
  {
   "cell_type": "code",
   "execution_count": 10,
   "metadata": {},
   "outputs": [],
   "source": [
    "import os\n",
    "import plotly.express as px\n",
    "import pandas as pd"
   ]
  },
  {
   "cell_type": "code",
   "execution_count": 11,
   "metadata": {},
   "outputs": [
    {
     "data": {
      "application/vnd.plotly.v1+json": {
       "config": {
        "plotlyServerURL": "https://plot.ly"
       },
       "data": [
        {
         "alignmentgroup": "True",
         "hovertemplate": "Dataset=test<br>Count=%{x}<br>Category=%{y}<extra></extra>",
         "legendgroup": "test",
         "marker": {
          "color": "#636efa",
          "pattern": {
           "shape": ""
          }
         },
         "name": "test",
         "offsetgroup": "test",
         "orientation": "h",
         "showlegend": true,
         "textposition": "auto",
         "type": "bar",
         "x": [
          20,
          37,
          38,
          50,
          52,
          53,
          55,
          56,
          57,
          60,
          60,
          61,
          63,
          63,
          64,
          70,
          71,
          72,
          76,
          78,
          78,
          78,
          78,
          79,
          79,
          83,
          83,
          86,
          87,
          88,
          89,
          90,
          92,
          92,
          98,
          100,
          101,
          106,
          128
         ],
         "xaxis": "x",
         "y": [
          "Smart",
          "Cupra",
          "MiniCooper",
          "Tesla",
          "Daewoo",
          "Jeep",
          "Suzuki",
          "MG",
          "Nissan",
          "Dacia",
          "Ford",
          "Bentley",
          "Maserati",
          "Renault",
          "Citroen",
          "Vauxhall",
          "Mitsubishi",
          "Subaru",
          "Honda",
          "AlfaRomeo",
          "Fiat",
          "Hyundai",
          "Seat",
          "Kia",
          "VW",
          "LandRover",
          "Peugeot",
          "Porche",
          "BMW",
          "Audi",
          "Dodge",
          "Volvo",
          "Mazda",
          "Skoda",
          "Jaguar",
          "AstonMartin",
          "Lexus",
          "Toyota",
          "MercedesBenz"
         ],
         "yaxis": "y"
        },
        {
         "alignmentgroup": "True",
         "hovertemplate": "Dataset=train<br>Count=%{x}<br>Category=%{y}<extra></extra>",
         "legendgroup": "train",
         "marker": {
          "color": "#EF553B",
          "pattern": {
           "shape": ""
          }
         },
         "name": "train",
         "offsetgroup": "train",
         "orientation": "h",
         "showlegend": true,
         "textposition": "auto",
         "type": "bar",
         "x": [
          68,
          144,
          159,
          197,
          200,
          206,
          218,
          224,
          233,
          247,
          248,
          250,
          259,
          265,
          267,
          268,
          279,
          298,
          302,
          305,
          306,
          314,
          317,
          322,
          327,
          332,
          334,
          336,
          344,
          350,
          370,
          370,
          377,
          377,
          385,
          411,
          421,
          432,
          511
         ],
         "xaxis": "x",
         "y": [
          "Smart",
          "Cupra",
          "MiniCooper",
          "Tesla",
          "Daewoo",
          "Jeep",
          "Suzuki",
          "MG",
          "Ford",
          "Bentley",
          "Nissan",
          "Dacia",
          "Citroen",
          "Renault",
          "Maserati",
          "Mitsubishi",
          "Vauxhall",
          "Honda",
          "Subaru",
          "AlfaRomeo",
          "Fiat",
          "Hyundai",
          "Kia",
          "Peugeot",
          "Seat",
          "VW",
          "LandRover",
          "Porche",
          "Audi",
          "BMW",
          "Dodge",
          "Volvo",
          "Jaguar",
          "Skoda",
          "Mazda",
          "AstonMartin",
          "Lexus",
          "Toyota",
          "MercedesBenz"
         ],
         "yaxis": "y"
        },
        {
         "alignmentgroup": "True",
         "hovertemplate": "Dataset=val<br>Count=%{x}<br>Category=%{y}<extra></extra>",
         "legendgroup": "val",
         "marker": {
          "color": "#00cc96",
          "pattern": {
           "shape": ""
          }
         },
         "name": "val",
         "offsetgroup": "val",
         "orientation": "h",
         "showlegend": true,
         "textposition": "auto",
         "type": "bar",
         "x": [
          15,
          36,
          39,
          44,
          49,
          49,
          55,
          56,
          60,
          60,
          60,
          61,
          63,
          63,
          66,
          67,
          70,
          70,
          73,
          75,
          76,
          76,
          77,
          77,
          78,
          78,
          81,
          82,
          83,
          83,
          88,
          91,
          91,
          94,
          96,
          97,
          100,
          104,
          130
         ],
         "xaxis": "x",
         "y": [
          "Smart",
          "Cupra",
          "MiniCooper",
          "Daewoo",
          "Jeep",
          "Tesla",
          "MG",
          "Suzuki",
          "Citroen",
          "Ford",
          "Nissan",
          "Bentley",
          "Dacia",
          "Maserati",
          "Honda",
          "Mitsubishi",
          "Renault",
          "Vauxhall",
          "Subaru",
          "Kia",
          "AlfaRomeo",
          "VW",
          "Fiat",
          "Seat",
          "Hyundai",
          "Peugeot",
          "LandRover",
          "Porche",
          "Audi",
          "Dodge",
          "BMW",
          "Mazda",
          "Volvo",
          "Jaguar",
          "Skoda",
          "AstonMartin",
          "Lexus",
          "Toyota",
          "MercedesBenz"
         ],
         "yaxis": "y"
        }
       ],
       "layout": {
        "barmode": "relative",
        "height": 1000,
        "legend": {
         "title": {
          "text": "Dataset"
         },
         "tracegroupgap": 0
        },
        "template": {
         "data": {
          "bar": [
           {
            "error_x": {
             "color": "#2a3f5f"
            },
            "error_y": {
             "color": "#2a3f5f"
            },
            "marker": {
             "line": {
              "color": "#E5ECF6",
              "width": 0.5
             },
             "pattern": {
              "fillmode": "overlay",
              "size": 10,
              "solidity": 0.2
             }
            },
            "type": "bar"
           }
          ],
          "barpolar": [
           {
            "marker": {
             "line": {
              "color": "#E5ECF6",
              "width": 0.5
             },
             "pattern": {
              "fillmode": "overlay",
              "size": 10,
              "solidity": 0.2
             }
            },
            "type": "barpolar"
           }
          ],
          "carpet": [
           {
            "aaxis": {
             "endlinecolor": "#2a3f5f",
             "gridcolor": "white",
             "linecolor": "white",
             "minorgridcolor": "white",
             "startlinecolor": "#2a3f5f"
            },
            "baxis": {
             "endlinecolor": "#2a3f5f",
             "gridcolor": "white",
             "linecolor": "white",
             "minorgridcolor": "white",
             "startlinecolor": "#2a3f5f"
            },
            "type": "carpet"
           }
          ],
          "choropleth": [
           {
            "colorbar": {
             "outlinewidth": 0,
             "ticks": ""
            },
            "type": "choropleth"
           }
          ],
          "contour": [
           {
            "colorbar": {
             "outlinewidth": 0,
             "ticks": ""
            },
            "colorscale": [
             [
              0,
              "#0d0887"
             ],
             [
              0.1111111111111111,
              "#46039f"
             ],
             [
              0.2222222222222222,
              "#7201a8"
             ],
             [
              0.3333333333333333,
              "#9c179e"
             ],
             [
              0.4444444444444444,
              "#bd3786"
             ],
             [
              0.5555555555555556,
              "#d8576b"
             ],
             [
              0.6666666666666666,
              "#ed7953"
             ],
             [
              0.7777777777777778,
              "#fb9f3a"
             ],
             [
              0.8888888888888888,
              "#fdca26"
             ],
             [
              1,
              "#f0f921"
             ]
            ],
            "type": "contour"
           }
          ],
          "contourcarpet": [
           {
            "colorbar": {
             "outlinewidth": 0,
             "ticks": ""
            },
            "type": "contourcarpet"
           }
          ],
          "heatmap": [
           {
            "colorbar": {
             "outlinewidth": 0,
             "ticks": ""
            },
            "colorscale": [
             [
              0,
              "#0d0887"
             ],
             [
              0.1111111111111111,
              "#46039f"
             ],
             [
              0.2222222222222222,
              "#7201a8"
             ],
             [
              0.3333333333333333,
              "#9c179e"
             ],
             [
              0.4444444444444444,
              "#bd3786"
             ],
             [
              0.5555555555555556,
              "#d8576b"
             ],
             [
              0.6666666666666666,
              "#ed7953"
             ],
             [
              0.7777777777777778,
              "#fb9f3a"
             ],
             [
              0.8888888888888888,
              "#fdca26"
             ],
             [
              1,
              "#f0f921"
             ]
            ],
            "type": "heatmap"
           }
          ],
          "heatmapgl": [
           {
            "colorbar": {
             "outlinewidth": 0,
             "ticks": ""
            },
            "colorscale": [
             [
              0,
              "#0d0887"
             ],
             [
              0.1111111111111111,
              "#46039f"
             ],
             [
              0.2222222222222222,
              "#7201a8"
             ],
             [
              0.3333333333333333,
              "#9c179e"
             ],
             [
              0.4444444444444444,
              "#bd3786"
             ],
             [
              0.5555555555555556,
              "#d8576b"
             ],
             [
              0.6666666666666666,
              "#ed7953"
             ],
             [
              0.7777777777777778,
              "#fb9f3a"
             ],
             [
              0.8888888888888888,
              "#fdca26"
             ],
             [
              1,
              "#f0f921"
             ]
            ],
            "type": "heatmapgl"
           }
          ],
          "histogram": [
           {
            "marker": {
             "pattern": {
              "fillmode": "overlay",
              "size": 10,
              "solidity": 0.2
             }
            },
            "type": "histogram"
           }
          ],
          "histogram2d": [
           {
            "colorbar": {
             "outlinewidth": 0,
             "ticks": ""
            },
            "colorscale": [
             [
              0,
              "#0d0887"
             ],
             [
              0.1111111111111111,
              "#46039f"
             ],
             [
              0.2222222222222222,
              "#7201a8"
             ],
             [
              0.3333333333333333,
              "#9c179e"
             ],
             [
              0.4444444444444444,
              "#bd3786"
             ],
             [
              0.5555555555555556,
              "#d8576b"
             ],
             [
              0.6666666666666666,
              "#ed7953"
             ],
             [
              0.7777777777777778,
              "#fb9f3a"
             ],
             [
              0.8888888888888888,
              "#fdca26"
             ],
             [
              1,
              "#f0f921"
             ]
            ],
            "type": "histogram2d"
           }
          ],
          "histogram2dcontour": [
           {
            "colorbar": {
             "outlinewidth": 0,
             "ticks": ""
            },
            "colorscale": [
             [
              0,
              "#0d0887"
             ],
             [
              0.1111111111111111,
              "#46039f"
             ],
             [
              0.2222222222222222,
              "#7201a8"
             ],
             [
              0.3333333333333333,
              "#9c179e"
             ],
             [
              0.4444444444444444,
              "#bd3786"
             ],
             [
              0.5555555555555556,
              "#d8576b"
             ],
             [
              0.6666666666666666,
              "#ed7953"
             ],
             [
              0.7777777777777778,
              "#fb9f3a"
             ],
             [
              0.8888888888888888,
              "#fdca26"
             ],
             [
              1,
              "#f0f921"
             ]
            ],
            "type": "histogram2dcontour"
           }
          ],
          "mesh3d": [
           {
            "colorbar": {
             "outlinewidth": 0,
             "ticks": ""
            },
            "type": "mesh3d"
           }
          ],
          "parcoords": [
           {
            "line": {
             "colorbar": {
              "outlinewidth": 0,
              "ticks": ""
             }
            },
            "type": "parcoords"
           }
          ],
          "pie": [
           {
            "automargin": true,
            "type": "pie"
           }
          ],
          "scatter": [
           {
            "fillpattern": {
             "fillmode": "overlay",
             "size": 10,
             "solidity": 0.2
            },
            "type": "scatter"
           }
          ],
          "scatter3d": [
           {
            "line": {
             "colorbar": {
              "outlinewidth": 0,
              "ticks": ""
             }
            },
            "marker": {
             "colorbar": {
              "outlinewidth": 0,
              "ticks": ""
             }
            },
            "type": "scatter3d"
           }
          ],
          "scattercarpet": [
           {
            "marker": {
             "colorbar": {
              "outlinewidth": 0,
              "ticks": ""
             }
            },
            "type": "scattercarpet"
           }
          ],
          "scattergeo": [
           {
            "marker": {
             "colorbar": {
              "outlinewidth": 0,
              "ticks": ""
             }
            },
            "type": "scattergeo"
           }
          ],
          "scattergl": [
           {
            "marker": {
             "colorbar": {
              "outlinewidth": 0,
              "ticks": ""
             }
            },
            "type": "scattergl"
           }
          ],
          "scattermapbox": [
           {
            "marker": {
             "colorbar": {
              "outlinewidth": 0,
              "ticks": ""
             }
            },
            "type": "scattermapbox"
           }
          ],
          "scatterpolar": [
           {
            "marker": {
             "colorbar": {
              "outlinewidth": 0,
              "ticks": ""
             }
            },
            "type": "scatterpolar"
           }
          ],
          "scatterpolargl": [
           {
            "marker": {
             "colorbar": {
              "outlinewidth": 0,
              "ticks": ""
             }
            },
            "type": "scatterpolargl"
           }
          ],
          "scatterternary": [
           {
            "marker": {
             "colorbar": {
              "outlinewidth": 0,
              "ticks": ""
             }
            },
            "type": "scatterternary"
           }
          ],
          "surface": [
           {
            "colorbar": {
             "outlinewidth": 0,
             "ticks": ""
            },
            "colorscale": [
             [
              0,
              "#0d0887"
             ],
             [
              0.1111111111111111,
              "#46039f"
             ],
             [
              0.2222222222222222,
              "#7201a8"
             ],
             [
              0.3333333333333333,
              "#9c179e"
             ],
             [
              0.4444444444444444,
              "#bd3786"
             ],
             [
              0.5555555555555556,
              "#d8576b"
             ],
             [
              0.6666666666666666,
              "#ed7953"
             ],
             [
              0.7777777777777778,
              "#fb9f3a"
             ],
             [
              0.8888888888888888,
              "#fdca26"
             ],
             [
              1,
              "#f0f921"
             ]
            ],
            "type": "surface"
           }
          ],
          "table": [
           {
            "cells": {
             "fill": {
              "color": "#EBF0F8"
             },
             "line": {
              "color": "white"
             }
            },
            "header": {
             "fill": {
              "color": "#C8D4E3"
             },
             "line": {
              "color": "white"
             }
            },
            "type": "table"
           }
          ]
         },
         "layout": {
          "annotationdefaults": {
           "arrowcolor": "#2a3f5f",
           "arrowhead": 0,
           "arrowwidth": 1
          },
          "autotypenumbers": "strict",
          "coloraxis": {
           "colorbar": {
            "outlinewidth": 0,
            "ticks": ""
           }
          },
          "colorscale": {
           "diverging": [
            [
             0,
             "#8e0152"
            ],
            [
             0.1,
             "#c51b7d"
            ],
            [
             0.2,
             "#de77ae"
            ],
            [
             0.3,
             "#f1b6da"
            ],
            [
             0.4,
             "#fde0ef"
            ],
            [
             0.5,
             "#f7f7f7"
            ],
            [
             0.6,
             "#e6f5d0"
            ],
            [
             0.7,
             "#b8e186"
            ],
            [
             0.8,
             "#7fbc41"
            ],
            [
             0.9,
             "#4d9221"
            ],
            [
             1,
             "#276419"
            ]
           ],
           "sequential": [
            [
             0,
             "#0d0887"
            ],
            [
             0.1111111111111111,
             "#46039f"
            ],
            [
             0.2222222222222222,
             "#7201a8"
            ],
            [
             0.3333333333333333,
             "#9c179e"
            ],
            [
             0.4444444444444444,
             "#bd3786"
            ],
            [
             0.5555555555555556,
             "#d8576b"
            ],
            [
             0.6666666666666666,
             "#ed7953"
            ],
            [
             0.7777777777777778,
             "#fb9f3a"
            ],
            [
             0.8888888888888888,
             "#fdca26"
            ],
            [
             1,
             "#f0f921"
            ]
           ],
           "sequentialminus": [
            [
             0,
             "#0d0887"
            ],
            [
             0.1111111111111111,
             "#46039f"
            ],
            [
             0.2222222222222222,
             "#7201a8"
            ],
            [
             0.3333333333333333,
             "#9c179e"
            ],
            [
             0.4444444444444444,
             "#bd3786"
            ],
            [
             0.5555555555555556,
             "#d8576b"
            ],
            [
             0.6666666666666666,
             "#ed7953"
            ],
            [
             0.7777777777777778,
             "#fb9f3a"
            ],
            [
             0.8888888888888888,
             "#fdca26"
            ],
            [
             1,
             "#f0f921"
            ]
           ]
          },
          "colorway": [
           "#636efa",
           "#EF553B",
           "#00cc96",
           "#ab63fa",
           "#FFA15A",
           "#19d3f3",
           "#FF6692",
           "#B6E880",
           "#FF97FF",
           "#FECB52"
          ],
          "font": {
           "color": "#2a3f5f"
          },
          "geo": {
           "bgcolor": "white",
           "lakecolor": "white",
           "landcolor": "#E5ECF6",
           "showlakes": true,
           "showland": true,
           "subunitcolor": "white"
          },
          "hoverlabel": {
           "align": "left"
          },
          "hovermode": "closest",
          "mapbox": {
           "style": "light"
          },
          "paper_bgcolor": "white",
          "plot_bgcolor": "#E5ECF6",
          "polar": {
           "angularaxis": {
            "gridcolor": "white",
            "linecolor": "white",
            "ticks": ""
           },
           "bgcolor": "#E5ECF6",
           "radialaxis": {
            "gridcolor": "white",
            "linecolor": "white",
            "ticks": ""
           }
          },
          "scene": {
           "xaxis": {
            "backgroundcolor": "#E5ECF6",
            "gridcolor": "white",
            "gridwidth": 2,
            "linecolor": "white",
            "showbackground": true,
            "ticks": "",
            "zerolinecolor": "white"
           },
           "yaxis": {
            "backgroundcolor": "#E5ECF6",
            "gridcolor": "white",
            "gridwidth": 2,
            "linecolor": "white",
            "showbackground": true,
            "ticks": "",
            "zerolinecolor": "white"
           },
           "zaxis": {
            "backgroundcolor": "#E5ECF6",
            "gridcolor": "white",
            "gridwidth": 2,
            "linecolor": "white",
            "showbackground": true,
            "ticks": "",
            "zerolinecolor": "white"
           }
          },
          "shapedefaults": {
           "line": {
            "color": "#2a3f5f"
           }
          },
          "ternary": {
           "aaxis": {
            "gridcolor": "white",
            "linecolor": "white",
            "ticks": ""
           },
           "baxis": {
            "gridcolor": "white",
            "linecolor": "white",
            "ticks": ""
           },
           "bgcolor": "#E5ECF6",
           "caxis": {
            "gridcolor": "white",
            "linecolor": "white",
            "ticks": ""
           }
          },
          "title": {
           "x": 0.05
          },
          "xaxis": {
           "automargin": true,
           "gridcolor": "white",
           "linecolor": "white",
           "ticks": "",
           "title": {
            "standoff": 15
           },
           "zerolinecolor": "white",
           "zerolinewidth": 2
          },
          "yaxis": {
           "automargin": true,
           "gridcolor": "white",
           "linecolor": "white",
           "ticks": "",
           "title": {
            "standoff": 15
           },
           "zerolinecolor": "white",
           "zerolinewidth": 2
          }
         }
        },
        "title": {
         "text": "Distribution of Car Makes"
        },
        "width": 800,
        "xaxis": {
         "anchor": "y",
         "domain": [
          0,
          1
         ],
         "title": {
          "text": "Count"
         }
        },
        "yaxis": {
         "anchor": "x",
         "domain": [
          0,
          1
         ],
         "title": {
          "text": "Category"
         }
        }
       }
      }
     },
     "metadata": {},
     "output_type": "display_data"
    }
   ],
   "source": [
    "import os\n",
    "import pandas as pd\n",
    "import plotly.express as px\n",
    "\n",
    "def count_images_in_folders(root_folder):\n",
    "    records = []\n",
    "    \n",
    "    for subset in ['train', 'test', 'val']:\n",
    "        subset_path = os.path.join(root_folder, subset)\n",
    "        \n",
    "        for category in os.listdir(subset_path):\n",
    "            category_path = os.path.join(subset_path, category)\n",
    "            \n",
    "            if os.path.isdir(category_path):\n",
    "                num_images = len([f for f in os.listdir(category_path) if os.path.isfile(os.path.join(category_path, f))])\n",
    "                \n",
    "                records.append({'Category': category, 'Count': num_images, 'Dataset': subset})\n",
    "\n",
    "    return pd.DataFrame(records)\n",
    "\n",
    "root_folder = \"car_make_images\"\n",
    "df = count_images_in_folders(root_folder)\n",
    "\n",
    "# Sort and plot\n",
    "df = df.sort_values(['Dataset', 'Count'], ascending=[True, True])\n",
    "fig = px.bar(df, x='Count', y='Category', color='Dataset', orientation='h', title='Distribution of Car Makes', \n",
    "             height=1000, width=800)\n",
    "fig.show()\n"
   ]
  },
  {
   "cell_type": "code",
   "execution_count": 12,
   "metadata": {},
   "outputs": [],
   "source": [
    "import pandas as pd\n",
    "hist = pd.read_csv('history.csv')\n",
    "hist.columns = ['Epoch', 'Loss', 'Accuracy', 'f1_score', 'Val_Loss', 'Val_Accuracy', 'Val_f1_score']"
   ]
  },
  {
   "cell_type": "code",
   "execution_count": 13,
   "metadata": {},
   "outputs": [
    {
     "data": {
      "text/html": [
       "<div>\n",
       "<style scoped>\n",
       "    .dataframe tbody tr th:only-of-type {\n",
       "        vertical-align: middle;\n",
       "    }\n",
       "\n",
       "    .dataframe tbody tr th {\n",
       "        vertical-align: top;\n",
       "    }\n",
       "\n",
       "    .dataframe thead th {\n",
       "        text-align: right;\n",
       "    }\n",
       "</style>\n",
       "<table border=\"1\" class=\"dataframe\">\n",
       "  <thead>\n",
       "    <tr style=\"text-align: right;\">\n",
       "      <th></th>\n",
       "      <th>Epoch</th>\n",
       "      <th>Loss</th>\n",
       "      <th>Accuracy</th>\n",
       "      <th>f1_score</th>\n",
       "      <th>Val_Loss</th>\n",
       "      <th>Val_Accuracy</th>\n",
       "      <th>Val_f1_score</th>\n",
       "    </tr>\n",
       "  </thead>\n",
       "  <tbody>\n",
       "    <tr>\n",
       "      <th>0</th>\n",
       "      <td>1</td>\n",
       "      <td>3.722818</td>\n",
       "      <td>0.040353</td>\n",
       "      <td>0.000259</td>\n",
       "      <td>3.630959</td>\n",
       "      <td>0.046214</td>\n",
       "      <td>0.000000</td>\n",
       "    </tr>\n",
       "    <tr>\n",
       "      <th>1</th>\n",
       "      <td>2</td>\n",
       "      <td>3.622794</td>\n",
       "      <td>0.042081</td>\n",
       "      <td>0.000000</td>\n",
       "      <td>3.614736</td>\n",
       "      <td>0.049413</td>\n",
       "      <td>0.000000</td>\n",
       "    </tr>\n",
       "    <tr>\n",
       "      <th>2</th>\n",
       "      <td>3</td>\n",
       "      <td>3.617013</td>\n",
       "      <td>0.045364</td>\n",
       "      <td>0.000000</td>\n",
       "      <td>3.662155</td>\n",
       "      <td>0.047991</td>\n",
       "      <td>0.000000</td>\n",
       "    </tr>\n",
       "    <tr>\n",
       "      <th>3</th>\n",
       "      <td>4</td>\n",
       "      <td>3.616401</td>\n",
       "      <td>0.045364</td>\n",
       "      <td>0.000000</td>\n",
       "      <td>3.602281</td>\n",
       "      <td>0.050480</td>\n",
       "      <td>0.000000</td>\n",
       "    </tr>\n",
       "    <tr>\n",
       "      <th>4</th>\n",
       "      <td>5</td>\n",
       "      <td>3.607370</td>\n",
       "      <td>0.048734</td>\n",
       "      <td>0.000000</td>\n",
       "      <td>3.592560</td>\n",
       "      <td>0.047991</td>\n",
       "      <td>0.000000</td>\n",
       "    </tr>\n",
       "    <tr>\n",
       "      <th>...</th>\n",
       "      <td>...</td>\n",
       "      <td>...</td>\n",
       "      <td>...</td>\n",
       "      <td>...</td>\n",
       "      <td>...</td>\n",
       "      <td>...</td>\n",
       "      <td>...</td>\n",
       "    </tr>\n",
       "    <tr>\n",
       "      <th>235</th>\n",
       "      <td>236</td>\n",
       "      <td>1.998353</td>\n",
       "      <td>0.433077</td>\n",
       "      <td>0.394419</td>\n",
       "      <td>3.486670</td>\n",
       "      <td>0.277284</td>\n",
       "      <td>0.202631</td>\n",
       "    </tr>\n",
       "    <tr>\n",
       "      <th>236</th>\n",
       "      <td>237</td>\n",
       "      <td>2.007543</td>\n",
       "      <td>0.437570</td>\n",
       "      <td>0.397625</td>\n",
       "      <td>3.419580</td>\n",
       "      <td>0.283327</td>\n",
       "      <td>0.199076</td>\n",
       "    </tr>\n",
       "    <tr>\n",
       "      <th>237</th>\n",
       "      <td>238</td>\n",
       "      <td>2.005826</td>\n",
       "      <td>0.435410</td>\n",
       "      <td>0.400663</td>\n",
       "      <td>3.362030</td>\n",
       "      <td>0.272663</td>\n",
       "      <td>0.197654</td>\n",
       "    </tr>\n",
       "    <tr>\n",
       "      <th>238</th>\n",
       "      <td>239</td>\n",
       "      <td>2.002101</td>\n",
       "      <td>0.432299</td>\n",
       "      <td>0.397184</td>\n",
       "      <td>3.387492</td>\n",
       "      <td>0.281905</td>\n",
       "      <td>0.206897</td>\n",
       "    </tr>\n",
       "    <tr>\n",
       "      <th>239</th>\n",
       "      <td>240</td>\n",
       "      <td>1.980753</td>\n",
       "      <td>0.441545</td>\n",
       "      <td>0.404566</td>\n",
       "      <td>3.288420</td>\n",
       "      <td>0.284394</td>\n",
       "      <td>0.206541</td>\n",
       "    </tr>\n",
       "  </tbody>\n",
       "</table>\n",
       "<p>240 rows × 7 columns</p>\n",
       "</div>"
      ],
      "text/plain": [
       "     Epoch      Loss  Accuracy  f1_score  Val_Loss  Val_Accuracy  Val_f1_score\n",
       "0        1  3.722818  0.040353  0.000259  3.630959      0.046214      0.000000\n",
       "1        2  3.622794  0.042081  0.000000  3.614736      0.049413      0.000000\n",
       "2        3  3.617013  0.045364  0.000000  3.662155      0.047991      0.000000\n",
       "3        4  3.616401  0.045364  0.000000  3.602281      0.050480      0.000000\n",
       "4        5  3.607370  0.048734  0.000000  3.592560      0.047991      0.000000\n",
       "..     ...       ...       ...       ...       ...           ...           ...\n",
       "235    236  1.998353  0.433077  0.394419  3.486670      0.277284      0.202631\n",
       "236    237  2.007543  0.437570  0.397625  3.419580      0.283327      0.199076\n",
       "237    238  2.005826  0.435410  0.400663  3.362030      0.272663      0.197654\n",
       "238    239  2.002101  0.432299  0.397184  3.387492      0.281905      0.206897\n",
       "239    240  1.980753  0.441545  0.404566  3.288420      0.284394      0.206541\n",
       "\n",
       "[240 rows x 7 columns]"
      ]
     },
     "execution_count": 13,
     "metadata": {},
     "output_type": "execute_result"
    }
   ],
   "source": [
    "hist"
   ]
  },
  {
   "cell_type": "code",
   "execution_count": 14,
   "metadata": {},
   "outputs": [],
   "source": [
    "import plotly.express as px\n",
    "acc = px.line(hist[['Accuracy', 'Val_Accuracy']])"
   ]
  },
  {
   "cell_type": "code",
   "execution_count": 15,
   "metadata": {},
   "outputs": [],
   "source": [
    "import plotly.express as px\n",
    "f1 = px.line(hist[['f1_score', 'Val_f1_score']])"
   ]
  },
  {
   "cell_type": "code",
   "execution_count": 16,
   "metadata": {},
   "outputs": [],
   "source": [
    "import plotly.express as px\n",
    "loss = px.line(hist[['Loss', 'Val_Loss']])"
   ]
  },
  {
   "cell_type": "code",
   "execution_count": 17,
   "metadata": {},
   "outputs": [
    {
     "name": "stdout",
     "output_type": "stream",
     "text": [
      "Starting to update README...\n",
      "Loading data...\n",
      "Creating figure: loss\n",
      "Created figure, now writing...\n",
      "Figure loss created and written. Time taken: 0.04871392250061035\n",
      "Creating figure: acc\n",
      "Created figure, now writing...\n",
      "Figure acc created and written. Time taken: 0.054964542388916016\n",
      "Creating figure: f1\n",
      "Created figure, now writing...\n",
      "Figure f1 created and written. Time taken: 0.04850625991821289\n",
      "Updating README...\n",
      "README updated. Total time taken: 0.1608433723449707\n"
     ]
    }
   ],
   "source": [
    "import time\n",
    "import plotly.express as px\n",
    "import pandas as pd\n",
    "import re\n",
    "\n",
    "def create_plotly_figure(dataframe, columns, fig_name):\n",
    "    print(\"Creating figure:\", fig_name)\n",
    "    start_time = time.time()\n",
    "    fig = px.line(dataframe[columns])\n",
    "    print(\"Created figure, now writing...\")\n",
    "    fig.write_html(f\"../assets/figures/{fig_name}.html\")\n",
    "    print(f\"Figure {fig_name} created and written. Time taken: {time.time() - start_time}\")\n",
    "\n",
    "def update_readme():\n",
    "    print(\"Starting to update README...\")\n",
    "    start_time = time.time()\n",
    "\n",
    "    # Read existing README.md\n",
    "    with open(\"../README.md\", \"r\", encoding='utf-8') as f:\n",
    "        content = f.read()\n",
    "\n",
    "    # Load data\n",
    "    print(\"Loading data...\")\n",
    "    hist = pd.read_csv('history.csv')\n",
    "    hist.columns = ['Epoch', 'Loss', 'Accuracy', 'f1_score', 'Val_Loss', 'Val_Accuracy', 'Val_f1_score']\n",
    "    \n",
    "    # Create and save new Plotly figures\n",
    "    figures_data = [\n",
    "        {'data': hist, 'columns': ['Loss', 'Val_Loss'], 'name': 'loss'},\n",
    "        {'data': hist, 'columns': ['Accuracy', 'Val_Accuracy'], 'name': 'acc'},\n",
    "        {'data': hist, 'columns': ['f1_score', 'Val_f1_score'], 'name': 'f1'}\n",
    "    ]\n",
    "    \n",
    "    figures_md = \"\\nMétricas actuales del modelo:\\n\"\n",
    "    for figure in figures_data:\n",
    "        create_plotly_figure(figure['data'], figure['columns'], figure['name'])\n",
    "        figures_md += f\"### {figure['name'].capitalize()} Plot\\n\"\n",
    "        figures_md += f\"![{figure['name'].capitalize()} Plot](../assets/figures/{figure['name']}.html)\\n\"\n",
    "\n",
    "    # Use regex to replace the existing Metrics section with the new figures\n",
    "    print(\"Updating README...\")\n",
    "    updated_content = re.sub(r\"Métricas actuales del modelo:.*\", figures_md, content, flags=re.DOTALL)\n",
    "\n",
    "    # Write the modified content back to README.md\n",
    "    with open(\"../README.md\", \"w\", encoding='utf-8') as f:\n",
    "        f.write(updated_content)\n",
    "\n",
    "    print(f\"README updated. Total time taken: {time.time() - start_time}\")\n",
    "\n",
    "update_readme()"
   ]
  },
  {
   "cell_type": "code",
   "execution_count": null,
   "metadata": {},
   "outputs": [],
   "source": []
  }
 ],
 "metadata": {
  "kernelspec": {
   "display_name": ".env",
   "language": "python",
   "name": "python3"
  },
  "language_info": {
   "codemirror_mode": {
    "name": "ipython",
    "version": 3
   },
   "file_extension": ".py",
   "mimetype": "text/x-python",
   "name": "python",
   "nbconvert_exporter": "python",
   "pygments_lexer": "ipython3",
   "version": "3.10.11"
  },
  "orig_nbformat": 4
 },
 "nbformat": 4,
 "nbformat_minor": 2
}
